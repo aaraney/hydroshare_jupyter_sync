{
 "cells": [
  {
   "cell_type": "code",
   "execution_count": 1,
   "metadata": {},
   "outputs": [],
   "source": [
    "# RUN WITH APPMODE!!"
   ]
  },
  {
   "cell_type": "code",
   "execution_count": 2,
   "metadata": {
    "extensions": {
     "jupyter_dashboards": {
      "version": 1,
      "views": {
       "grid_default": {
        "hidden": true
       },
       "report_default": {
        "hidden": true
       }
      }
     }
    }
   },
   "outputs": [],
   "source": [
    "import os\n",
    "import time\n",
    "import dateutil\n",
    "import datetime\n",
    "import shutil\n",
    "import glob\n",
    "import rdflib\n",
    "import pandas as pd\n",
    "from ipywidgets import Button, Label, HBox, Output\n",
    "from utilities import hydroshare\n",
    "import qgrid\n",
    "from collections import OrderedDict\n",
    "os.chdir(os.path.expanduser('~/notebooks'))"
   ]
  },
  {
   "cell_type": "code",
   "execution_count": 3,
   "metadata": {
    "extensions": {
     "jupyter_dashboards": {
      "version": 1,
      "views": {
       "grid_default": {
        "col": 0,
        "height": 4,
        "hidden": false,
        "row": 0,
        "width": 4
       },
       "report_default": {
        "hidden": false
       }
      }
     }
    }
   },
   "outputs": [
    {
     "data": {
      "text/html": [
       "<style>\n",
       ".mytext {\n",
       "    font-style: bold;\n",
       "    font-size: 20px;\n",
       "    padding: 25px 25px 25px 25px;\n",
       "}\n",
       "</style>"
      ],
      "text/plain": [
       "<IPython.core.display.HTML object>"
      ]
     },
     "metadata": {},
     "output_type": "display_data"
    }
   ],
   "source": [
    "%%html\n",
    "<style>\n",
    ".mytext {\n",
    "    font-style: bold;\n",
    "    font-size: 20px;\n",
    "    padding: 25px 25px 25px 25px;\n",
    "}\n",
    "</style>"
   ]
  },
  {
   "cell_type": "code",
   "execution_count": 4,
   "metadata": {
    "extensions": {
     "jupyter_dashboards": {
      "version": 1,
      "views": {
       "grid_default": {},
       "report_default": {
        "hidden": true
       }
      }
     }
    }
   },
   "outputs": [],
   "source": [
    "sel_dir = ''\n",
    "op = None\n",
    "\n",
    "# table selection changed\n",
    "def select_cb(event, w):\n",
    "    global sel_dir\n",
    "    \n",
    "    if event['new'] == []:\n",
    "        for b in buttons:\n",
    "            b.disabled = True\n",
    "        new_button.disabled = False   \n",
    "        return\n",
    "\n",
    "    outbox.clear_output()\n",
    "    \n",
    "    if sel_dir:\n",
    "        # cancel previous operation\n",
    "        hbox.children = buttons\n",
    "        sel_dir = ''\n",
    "\n",
    "    # enable all buttons\n",
    "    for b in buttons:\n",
    "        b.disabled = False\n",
    "\n",
    "    # disable UPDATE button if no update available\n",
    "    status = qw.get_selected_df()['Status'][0]\n",
    "    if status.split('\"')[3] != 'Modified':\n",
    "        update_button.disabled = True\n",
    "    # disable SEND button if no hydroshare resource exists\n",
    "    if status.split('\"')[3] == 'Deleted':\n",
    "        send_button.disabled = True\n",
    "\n",
    "del_button = Button (\n",
    "                description='Delete Local Copy',\n",
    "                icon='minus',\n",
    "                tooltip='Delete Local Copy of Resource and its Files',\n",
    "                button_style='danger',\n",
    "                disabled=True\n",
    "            )\n",
    "send_button = Button (\n",
    "                description='Send to HydroShare',\n",
    "                icon='fa-arrow-left',\n",
    "                tooltip='Send your file to the resource on HydroShare',\n",
    "                button_style='warning',\n",
    "                layout={'width': 'initial'},\n",
    "                disabled=True\n",
    "            )\n",
    "update_button = Button (\n",
    "                description='Update from HydroShare',\n",
    "                icon='fa-arrow-right',\n",
    "                tooltip='Fetch the most recent version of this resource form HydroShare',\n",
    "                button_style='success',\n",
    "                layout={'width': 'initial'},\n",
    "                disabled=True\n",
    "            )\n",
    "copy_button = Button (\n",
    "                description='New Copy',\n",
    "                icon='plus',\n",
    "                tooltip='Create a new resource on HydroShare from this resource',\n",
    "                button_style='info',\n",
    "                disabled=True\n",
    "            )\n",
    "new_button = Button (\n",
    "                description='New Resource',\n",
    "                icon='plus-square',\n",
    "                tooltip='Create a new (empty) resource on HydroShare.',\n",
    "                #button_style='info',\n",
    "                disabled=False\n",
    "            )\n",
    "confirm_label = Label(value='')\n",
    "cancel_but = Button(description='Cancel', button_style='info')\n",
    "ok_but = Button(description='OK', button_style='danger')\n",
    "confirm_dialog = [confirm_label, cancel_but, ok_but]\n",
    "buttons = [del_button, update_button, send_button, copy_button, new_button]"
   ]
  },
  {
   "cell_type": "code",
   "execution_count": 5,
   "metadata": {},
   "outputs": [],
   "source": [
    "def get_del_dir(d):\n",
    "    # d is path to contents\n",
    "    d = os.path.dirname(os.path.dirname(d))\n",
    "    rid = os.path.basename(d)\n",
    "    rid2 = os.path.basename(os.path.dirname(d))\n",
    "    if rid == rid2:\n",
    "        d = os.path.dirname(d)\n",
    "    return d\n",
    "\n",
    "def but_clicked(w):\n",
    "    # delete clicked.  bring up confirm dialog\n",
    "    global sel_dir, op\n",
    "    #del_button.disabled = True\n",
    "    ok_but.disabled = False\n",
    "    cancel_but.disabled = False\n",
    "    \n",
    "    if w == new_button:\n",
    "        confirm_label.value = 'Create a new (empty) resource?'\n",
    "        op = new_project\n",
    "        hbox.children = confirm_dialog\n",
    "        return\n",
    "    \n",
    "    selected_dir = qw.get_selected_df().index[0]\n",
    "    sel_dir = selected_dir.split('\"')[1].split('notebooks/notebooks/')[1]\n",
    "    if w == del_button:\n",
    "        sel_dir = get_del_dir(sel_dir)\n",
    "        confirm_label.value = 'Delete all files in %s ?' % sel_dir\n",
    "        op = del_project\n",
    "    elif w == send_button:\n",
    "        confirm_label.value = 'Send all files in %s to HydroShare?' % get_del_dir(sel_dir)\n",
    "        op = send_project\n",
    "    elif w == update_button:\n",
    "        confirm_label.value = 'Update all files in %s from HydroShare (overwriting any local changes)?' % get_del_dir(sel_dir)\n",
    "        op = update_project\n",
    "    else:\n",
    "        confirm_label.value = 'Make a new resource from the files in %s ?' % get_del_dir(sel_dir)\n",
    "        op = copy_project\n",
    "\n",
    "    hbox.children = confirm_dialog\n",
    "\n",
    "def do_copy(hs, rid, sel_dir):\n",
    "    # copy files to resource 'rid' from directory 'sel_dir'\n",
    "    os.chdir(sel_dir)\n",
    "    try:\n",
    "        for dirpath, dnames, fnames in os.walk('.'):\n",
    "            if dirpath.endswith('.ipynb_checkpoints'):\n",
    "                continue\n",
    "            # print('DIR=', dirpath)\n",
    "            for dn in dnames:\n",
    "                if dn != '.ipynb_checkpoints':\n",
    "                    # print('dn=', dn)\n",
    "                    try:\n",
    "                        hs.hs.createResourceFolder(rid, pathname=dn)\n",
    "                    except:\n",
    "                        pass\n",
    "                    print('.', end='')\n",
    "            for f in fnames:\n",
    "                #print('f=', f)\n",
    "                if dirpath == '.':\n",
    "                    hs.hs.addResourceFile(rid, f)\n",
    "                    print('.', end='')\n",
    "                    continue\n",
    "                # Ugh. Copy then rename because the API is broken\n",
    "                f =  os.path.join(dirpath, f).lstrip('./')\n",
    "                #print(\"Copying\", f)\n",
    "                hs.hs.addResourceFile(rid, f, '_tmp_')\n",
    "                print('.', end='')\n",
    "                options = {\n",
    "                    \"source_path\": \"_tmp_\",\n",
    "                    \"target_path\": f\n",
    "                }\n",
    "                hs.hs.resource(rid).functions.move_or_rename(options)\n",
    "                print('.', end='')\n",
    "        print(\"DONE\")\n",
    "        os.chdir(os.path.expanduser('~/notebooks'))\n",
    "        return 1\n",
    "    except:\n",
    "        print('ERROR: Copy Failed')\n",
    "        return 0\n",
    "\n",
    "def send_project():\n",
    "    # send files to hydroshare\n",
    "    global hs\n",
    "    outbox.clear_output()\n",
    "    with outbox:\n",
    "        rid = sel_dir.split('/')[-3]\n",
    "        # delete current files\n",
    "        resource = hs.hs.resource(rid)\n",
    "        r = resource.files.all().json()\n",
    "        if 'results' not in r:\n",
    "            print(r)\n",
    "            return\n",
    "        for f in r['results']:\n",
    "            url = f['url']\n",
    "            f = url.split('contents/')[1]\n",
    "            #print('deleting', f)\n",
    "            print('.', end='')\n",
    "            hs.hs.deleteResourceFile(rid, f)\n",
    "\n",
    "        # upload new files\n",
    "        if do_copy(hs, rid, sel_dir):\n",
    "            # set modified date on contents\n",
    "            os.system('touch %s' % sel_dir) \n",
    "            qw.df = build_df(hs)\n",
    "\n",
    "def copy_project():\n",
    "    global hs\n",
    "    outbox.clear_output()\n",
    "    with outbox:\n",
    "        rid = sel_dir.split('/')[-3]\n",
    "        meta = hs.getResourceMetadata(rid)\n",
    "        abstract = meta.abstract \\\n",
    "                    + '\\n\\n[Modified in JupyterHub on %s]\\n' \\\n",
    "                    % datetime.datetime.now()\n",
    "        rid = hs.hs.createResource(resource_type=meta.resource_type,\n",
    "                              title=meta.title,\n",
    "                              abstract=abstract,\n",
    "                              keywords=meta.keywords)\n",
    "        print(\"Created new resource\", rid) \n",
    "        if do_copy(hs, rid, sel_dir):\n",
    "            print(\"Downloading new version\")\n",
    "            download_dir = os.environ.get('JUPYTER_DOWNLOADS', 'Downloads')\n",
    "            hs.hs.getResource(rid, destination=download_dir, unzip=True)\n",
    "            print(\"DONE\")\n",
    "            qw.df = build_df(hs)\n",
    "    \n",
    "def update_project():\n",
    "    outbox.clear_output()\n",
    "    rid = sel_dir.split('/')[-3]\n",
    "    with outbox:\n",
    "        print(\"UPDATING\", sel_dir)\n",
    "        download_dir = os.environ.get('JUPYTER_DOWNLOADS', 'Downloads')\n",
    "        hs.hs.getResource(rid, destination=download_dir, unzip=True)\n",
    "        # set modified date on contents\n",
    "        os.system('touch %s' % sel_dir) \n",
    "        print('DONE')\n",
    "    qw.df = build_df(hs)\n",
    "\n",
    "def new_project():\n",
    "    outbox.clear_output()\n",
    "    rid = hs.hs.createResource(resource_type='GenericResource', title='New Resource')\n",
    "    with outbox:\n",
    "        print(\"Created new resource\", rid) \n",
    "        with open('/tmp/README' , 'w') as fp:\n",
    "            fp.write(\"Go to https://www.hydroshare.org/resource/%s/ and edit the metadata (title, abstract, etc).\\n\" % rid)\n",
    "            fp.write(\"After editing metadata, click on the UPDATE button to update the local copy.\\n\")\n",
    "        hs.hs.addResourceFile(rid, '/tmp/README', 'README')\n",
    "        print('Downloading local copy...  ', end='')\n",
    "        download_dir = os.environ.get('JUPYTER_DOWNLOADS', 'Downloads')\n",
    "        hs.hs.getResource(rid, destination=download_dir, unzip=True)\n",
    "        print(\"DONE\")\n",
    "    qw.df = build_df(hs)\n",
    "    \n",
    "def del_project():\n",
    "    # delete local project\n",
    "    global sel_dir\n",
    "    shutil.rmtree(sel_dir)\n",
    "    qw.df = build_df(hs)\n",
    "    \n",
    "def cancel_op(_):\n",
    "    # cancel\n",
    "    global sel_dir, op\n",
    "    sel_dir = ''\n",
    "    op = None\n",
    "    hbox.children = buttons\n",
    "    qw.change_selection([])\n",
    "    \n",
    "def ok_clicked(_):\n",
    "    global op, sel_dir\n",
    "    if op is not None:\n",
    "        op()\n",
    "    cancel_op('')\n",
    "    \n",
    "ok_but.on_click(ok_clicked)\n",
    "cancel_but.on_click(cancel_op)"
   ]
  },
  {
   "cell_type": "code",
   "execution_count": 6,
   "metadata": {},
   "outputs": [],
   "source": [
    "def get_last_time(path):\n",
    "    files =  glob.glob('%s/**' % path, recursive=True)\n",
    "    content_files = [f for f in files if os.path.isfile(f)]\n",
    "    if content_files == []:\n",
    "        return '', 0\n",
    "    size = int(sum(os.path.getsize(x) for x in content_files)/1024)\n",
    "    latest_file = max(content_files, key=os.path.getmtime)\n",
    "    ltime = time.strftime(\"%Y-%m-%d\", time.localtime(os.path.getmtime(latest_file)))\n",
    "    return ltime, size\n",
    "\n",
    "def get_status(hs, rid, contents):\n",
    "    resource_date = None\n",
    "    try:\n",
    "        meta = hs.getResourceMetadata(rid)\n",
    "        for d in meta.dates:\n",
    "            resource_date = d['start_date']\n",
    "            if d['type'] == 'modified':\n",
    "                break\n",
    "    except:\n",
    "        return '<div data-toggle=\"popover\" title=\"Deleted\" style=\"color:red;\">X</div>'\n",
    "            \n",
    "    if resource_date is None:\n",
    "        return '<div data-toggle=\"popover\" title=\"unknown\">?</div>'\n",
    "    resource_date = resource_date.rstrip('Z')\n",
    "    dx = dateutil.parser.parse(resource_date)\n",
    "    dy = datetime.datetime.fromtimestamp(os.path.getmtime(contents))\n",
    "    if dx > dy:\n",
    "        return '<div data-toggle=\"popover\" title=\"Modified\" style=\"color:orange;\">M</div>'\n",
    "    return '<div data-toggle=\"popover\" title=\"Current\">C</div>'\n",
    "\n",
    "def get_title(f):\n",
    "    g = rdflib.Graph().parse(f)\n",
    "    title = 'unknown'\n",
    "    for s,p,o in g:\n",
    "        if p.title().endswith('/Title'):\n",
    "            title = o.toPython()\n",
    "            break\n",
    "    g.close()\n",
    "    return title\n",
    "\n",
    "def build_df(hs):\n",
    "    files = glob.glob('data/*/data/resourcemetadata.xml')\n",
    "    files.extend(glob.glob('data/*/*/data/resourcemetadata.xml'))\n",
    "\n",
    "    data = OrderedDict({'Name': [],\n",
    "            'ID': [],\n",
    "            'Status': [],\n",
    "            'Last': [],\n",
    "            'Size (KB)': []\n",
    "           })\n",
    "    \n",
    "    for f in files:\n",
    "        rid = f.split('/')[1]\n",
    "        content_dir = os.path.join(os.path.dirname(f), 'contents')\n",
    "        # generate absolute path to content for href\n",
    "        cdir = '/hub/user-redirect/notebooks/notebooks/' + content_dir\n",
    "        ltime, size = get_last_time(content_dir)\n",
    "        data['Name'].append('<a href=\"{}\" target=\"_blank\">{}</a>'.format(cdir, get_title(f)))\n",
    "        data['ID'].append(rid)\n",
    "        data['Last'].append(ltime)\n",
    "        data['Status'].append(get_status(hs, rid, content_dir))         \n",
    "        data['Size (KB)'].append(size)\n",
    "\n",
    "    df = pd.DataFrame.from_dict(data)\n",
    "    return df.set_index('Name')"
   ]
  },
  {
   "cell_type": "code",
   "execution_count": 7,
   "metadata": {
    "extensions": {
     "jupyter_dashboards": {
      "version": 1,
      "views": {
       "grid_default": {},
       "report_default": {
        "hidden": true
       }
      }
     }
    }
   },
   "outputs": [],
   "source": [
    "outbox = Output()\n",
    "hbox = HBox(buttons)\n",
    "with outbox:\n",
    "    global hs\n",
    "    hs = hydroshare.hydroshare()\n",
    "    \n",
    "df = build_df(hs)\n",
    "col_defs = {\n",
    "    'Name': {'width': 500},\n",
    "    'ID': {'width': 250},\n",
    "    'Last': {'width': 100},\n",
    "    'Size (KB)': {'width': 80},\n",
    "    'Status': {'width': 25}\n",
    "}\n",
    "qw = qgrid.show_grid(df, \n",
    "                     grid_options={'editable': False,'forceFitColumns': True}, \n",
    "                     column_definitions=col_defs)\n",
    "qw.on('selection_changed', select_cb)\n",
    "del_button.on_click(but_clicked)\n",
    "send_button.on_click(but_clicked)\n",
    "copy_button.on_click(but_clicked)\n",
    "update_button.on_click(but_clicked)\n",
    "new_button.on_click(but_clicked)"
   ]
  },
  {
   "cell_type": "markdown",
   "metadata": {},
   "source": [
    "<div class=\"mytext\" style=\"background-color:#BCBCBC;max-width: 100%\">\n",
    "<a href=\".\" data-toggle=\"popover\" title=\"Open Notebook Files\" style=\"horizontal-align:middle;text-decoration:none;color:white\"><i class=\"fa fa-file\"></i>\n",
    "Click Here to go to your Home Directory</a>\n",
    "</div>\n",
    "\n",
    "## Welcome to the HydroShare Notebook Server \n",
    "\n",
    "For more information about what you can do with Jupyter and HydroShare, see\n",
    "* [Welcome](/user-redirect/notebooks/notebooks/Welcome.ipynb)\n",
    "\n",
    "Hydroshare Resources you have downloaded are listed below. "
   ]
  },
  {
   "cell_type": "code",
   "execution_count": 8,
   "metadata": {
    "extensions": {
     "jupyter_dashboards": {
      "version": 1,
      "views": {
       "grid_default": {},
       "report_default": {
        "hidden": true
       }
      }
     }
    },
    "scrolled": false
   },
   "outputs": [
    {
     "data": {
      "application/vnd.jupyter.widget-view+json": {
       "model_id": "05c61fb7cb9a44ceb51132824aa5082d",
       "version_major": 2,
       "version_minor": 0
      },
      "text/plain": [
       "QgridWidget(grid_options={'fullWidthRows': True, 'syncColumnCellResize': True, 'forceFitColumns': True, 'defau…"
      ]
     },
     "metadata": {},
     "output_type": "display_data"
    },
    {
     "data": {
      "application/vnd.jupyter.widget-view+json": {
       "model_id": "725f9a78b0ab4c0594891fc2fc231bb9",
       "version_major": 2,
       "version_minor": 0
      },
      "text/plain": [
       "HBox(children=(Button(button_style='danger', description='Delete Local Copy', disabled=True, icon='minus', sty…"
      ]
     },
     "metadata": {},
     "output_type": "display_data"
    },
    {
     "data": {
      "application/vnd.jupyter.widget-view+json": {
       "model_id": "e509b6de86a141a6b40658739b1e63c3",
       "version_major": 2,
       "version_minor": 0
      },
      "text/plain": [
       "Output()"
      ]
     },
     "metadata": {},
     "output_type": "display_data"
    }
   ],
   "source": [
    "display(qw)\n",
    "display(hbox)\n",
    "display(outbox)"
   ]
  }
 ],
 "metadata": {
  "extensions": {
   "jupyter_dashboards": {
    "activeView": "report_default",
    "version": 1,
    "views": {
     "grid_default": {
      "cellMargin": 10,
      "defaultCellHeight": 20,
      "maxColumns": 12,
      "name": "grid",
      "type": "grid"
     },
     "report_default": {
      "name": "report",
      "type": "report"
     }
    }
   }
  },
  "kernelspec": {
   "display_name": "Python 3",
   "language": "python",
   "name": "python3"
  },
  "language_info": {
   "codemirror_mode": {
    "name": "ipython",
    "version": 3
   },
   "file_extension": ".py",
   "mimetype": "text/x-python",
   "name": "python",
   "nbconvert_exporter": "python",
   "pygments_lexer": "ipython3",
   "version": "3.6.7"
  },
  "tool": false
 },
 "nbformat": 4,
 "nbformat_minor": 2
}
